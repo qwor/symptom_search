{
 "cells": [
  {
   "cell_type": "code",
   "execution_count": 43,
   "outputs": [],
   "source": [
    "import pandas as pd\n",
    "import numpy as np\n",
    "df = pd.read_csv('data.csv', index_col=0)\n",
    "df_main = df['\"Прочие симптомы\"']\n",
    "small_df = pd.DataFrame(np.array_split(df_main, 100)[0])\n",
    "small_df.to_csv(\"data_small.csv\")"
   ],
   "metadata": {
    "collapsed": false,
    "pycharm": {
     "name": "#%%\n"
    }
   }
  },
  {
   "cell_type": "code",
   "execution_count": 47,
   "outputs": [],
   "source": [
    "words = []\n",
    "for row in df_main:\n",
    "    words += row.strip('\"').replace(',', ' ').replace(';', ' ').replace('.', ' ').split(' ')\n",
    "words = set(words)\n",
    "filter_func = lambda s: all(i.isalpha() for i in s) and len(s) > 2\n",
    "words = sorted(list(filter(filter_func, words)))\n",
    "words_df = pd.DataFrame(words)\n",
    "words_df.to_csv('words.csv')"
   ],
   "metadata": {
    "collapsed": false,
    "pycharm": {
     "name": "#%%\n"
    }
   }
  },
  {
   "cell_type": "code",
   "execution_count": null,
   "outputs": [],
   "source": [
    "from thefuzz import fuzz, process\n",
    "process.extract('кашель', words, limit=50)"
   ],
   "metadata": {
    "collapsed": false,
    "pycharm": {
     "name": "#%%\n",
     "is_executing": true
    }
   }
  },
  {
   "cell_type": "code",
   "execution_count": null,
   "outputs": [],
   "source": [
    "from gensim.models.word2vec import Word2Vec, LineSentence\n",
    "from gensim.models.fasttext import FastText\n",
    "import gensim.downloader as download_api\n",
    "\n",
    "data = LineSentence(words)\n",
    "model = Word2Vec(data)\n",
    "model.save('words.model')"
   ],
   "metadata": {
    "collapsed": false,
    "pycharm": {
     "name": "#%%\n",
     "is_executing": true
    }
   }
  },
  {
   "cell_type": "code",
   "execution_count": null,
   "outputs": [],
   "source": [],
   "metadata": {
    "collapsed": false,
    "pycharm": {
     "name": "#%%\n"
    }
   }
  }
 ],
 "metadata": {
  "kernelspec": {
   "display_name": "Python 3",
   "language": "python",
   "name": "python3"
  },
  "language_info": {
   "codemirror_mode": {
    "name": "ipython",
    "version": 2
   },
   "file_extension": ".py",
   "mimetype": "text/x-python",
   "name": "python",
   "nbconvert_exporter": "python",
   "pygments_lexer": "ipython2",
   "version": "2.7.6"
  }
 },
 "nbformat": 4,
 "nbformat_minor": 0
}